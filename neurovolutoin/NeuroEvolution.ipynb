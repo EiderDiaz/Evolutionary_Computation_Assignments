{
  "nbformat": 4,
  "nbformat_minor": 0,
  "metadata": {
    "colab": {
      "name": "NeuroEvolution.ipynb",
      "provenance": []
    },
    "kernelspec": {
      "name": "python3",
      "display_name": "Python 3"
    }
  },
  "cells": [
    {
      "cell_type": "code",
      "metadata": {
        "id": "oAfZINqQbMka",
        "colab_type": "code",
        "colab": {}
      },
      "source": [
        "# Solves a collection of deceptive functions by using a simple genetic algorithm with binary representation. \n",
        "\n",
        "import random\n",
        "import numpy\n",
        "import math\n",
        "import matplotlib.pyplot\n",
        "import pandas as pd\n",
        "\n"
      ],
      "execution_count": null,
      "outputs": []
    },
    {
      "cell_type": "code",
      "metadata": {
        "id": "xUGkyZIwLGqc",
        "colab_type": "code",
        "colab": {
          "base_uri": "https://localhost:8080/",
          "height": 204
        },
        "outputId": "c9b5fc84-210c-4e30-a636-90fac303c14d"
      },
      "source": [
        "url = \"https://raw.githubusercontent.com/EiderDiaz/Evolutionary_Computation_Assignments/master/neurovolutoin/data.csv?token=AEH26VHNUIJLRXAFMDYYPNS7NOJZ4\"\n",
        "\n",
        "data = pd.read_csv(url)\n",
        "data.head()"
      ],
      "execution_count": null,
      "outputs": [
        {
          "output_type": "execute_result",
          "data": {
            "text/html": [
              "<div>\n",
              "<style scoped>\n",
              "    .dataframe tbody tr th:only-of-type {\n",
              "        vertical-align: middle;\n",
              "    }\n",
              "\n",
              "    .dataframe tbody tr th {\n",
              "        vertical-align: top;\n",
              "    }\n",
              "\n",
              "    .dataframe thead th {\n",
              "        text-align: right;\n",
              "    }\n",
              "</style>\n",
              "<table border=\"1\" class=\"dataframe\">\n",
              "  <thead>\n",
              "    <tr style=\"text-align: right;\">\n",
              "      <th></th>\n",
              "      <th>x</th>\n",
              "      <th>f(x)</th>\n",
              "    </tr>\n",
              "  </thead>\n",
              "  <tbody>\n",
              "    <tr>\n",
              "      <th>0</th>\n",
              "      <td>-5.0</td>\n",
              "      <td>10.14</td>\n",
              "    </tr>\n",
              "    <tr>\n",
              "      <th>1</th>\n",
              "      <td>-4.9</td>\n",
              "      <td>10.47</td>\n",
              "    </tr>\n",
              "    <tr>\n",
              "      <th>2</th>\n",
              "      <td>-4.8</td>\n",
              "      <td>11.21</td>\n",
              "    </tr>\n",
              "    <tr>\n",
              "      <th>3</th>\n",
              "      <td>-4.5</td>\n",
              "      <td>11.77</td>\n",
              "    </tr>\n",
              "    <tr>\n",
              "      <th>4</th>\n",
              "      <td>-4.3</td>\n",
              "      <td>11.10</td>\n",
              "    </tr>\n",
              "  </tbody>\n",
              "</table>\n",
              "</div>"
            ],
            "text/plain": [
              "     x   f(x)\n",
              "0 -5.0  10.14\n",
              "1 -4.9  10.47\n",
              "2 -4.8  11.21\n",
              "3 -4.5  11.77\n",
              "4 -4.3  11.10"
            ]
          },
          "metadata": {
            "tags": []
          },
          "execution_count": 2
        }
      ]
    },
    {
      "cell_type": "code",
      "metadata": {
        "id": "IYJEEEjIblmm",
        "colab_type": "code",
        "colab": {}
      },
      "source": [
        "def logsig (x):\n",
        "  a = numpy.zeros((len(x), 1))\n",
        "  for i in range(len(x)):     \n",
        "    a[i] = [1 / (1 + math.exp(-x[i]))]\n",
        "  return a"
      ],
      "execution_count": null,
      "outputs": []
    },
    {
      "cell_type": "code",
      "metadata": {
        "id": "sE51Spambuc3",
        "colab_type": "code",
        "colab": {}
      },
      "source": [
        "# Implements the random initialization of individuals using the real-valued representation.\n",
        "def createIndividual(n):\n",
        "  return numpy.random.random([3 * n + 1])"
      ],
      "execution_count": null,
      "outputs": []
    },
    {
      "cell_type": "code",
      "metadata": {
        "id": "wHAHF7dibyW7",
        "colab_type": "code",
        "colab": {}
      },
      "source": [
        "# Implements the one point crossover on individuals using the real-valued representation.\n",
        "def combine(parentA, parentB, cRate):\n",
        "  if (random.random() <= cRate):\n",
        "    cPoint = numpy.random.randint(1, len(parentA))   \n",
        "    offspringA = numpy.append(parentA[0:cPoint], parentB[cPoint:])\n",
        "    offspringB = numpy.append(parentB[0:cPoint], parentA[cPoint:])\n",
        "  else:\n",
        "    offspringA = numpy.copy(parentA)\n",
        "    offspringB = numpy.copy(parentB)\n",
        "  return offspringA, offspringB"
      ],
      "execution_count": null,
      "outputs": []
    },
    {
      "cell_type": "code",
      "metadata": {
        "id": "at7z-35_b0KI",
        "colab_type": "code",
        "colab": {}
      },
      "source": [
        "# Implements mutation using the real-valued representation.\n",
        "def mutate(individual, mRate):\n",
        "  for i in range(len(individual)):\n",
        "    if (random.random() <= mRate):\n",
        "      if (numpy.random.random() < 0.5):\n",
        "        individual[i] += numpy.random.random()\n",
        "      else:\n",
        "        individual[i] -= numpy.random.random()\n",
        "  return individual"
      ],
      "execution_count": null,
      "outputs": []
    },
    {
      "cell_type": "code",
      "metadata": {
        "id": "1AUObzr7b2tI",
        "colab_type": "code",
        "colab": {}
      },
      "source": [
        "# Implements the fitness function\n",
        "def evaluate(individual, n):\n",
        "  evaluation = 0.0  \n",
        "  w1 = individual[0:n]\n",
        "  w1 = w1.reshape(n, 1)\n",
        "  b1 = individual[n:2 * n]\n",
        "  b1 = b1.reshape(n, 1)\n",
        "  w2 = individual[2* n:3*n]\n",
        "  b2 = individual[3 * n]\n",
        "\n",
        "  p = data[\"x\"]\n",
        "  t = data[\"f(x)\"]\n",
        "  #p = numpy.arange(-3, 3.01, 0.1) #entrada\n",
        "  #t = p ** 3 #salida esperada\n",
        "  for i in range(len(t)):\n",
        "    a1 = logsig(numpy.add(numpy.matmul(w1,p[i].reshape(1, 1)),\n",
        "                          b1))  \n",
        "    a2 = numpy.add(numpy.matmul(w2, a1),\n",
        "                   b2) * 10\n",
        "    evaluation += (math.pow(a2[0] - t[i], 2))\n",
        "  return evaluation / len(t);"
      ],
      "execution_count": null,
      "outputs": []
    },
    {
      "cell_type": "code",
      "metadata": {
        "id": "LcJgwhiPb-Rr",
        "colab_type": "code",
        "colab": {
          "base_uri": "https://localhost:8080/",
          "height": 281
        },
        "outputId": "4e3913e2-e922-4d5e-de41-ed1b6a138c98"
      },
      "source": [
        "# Plots a solution.\n",
        "def plot(individual, n):  \n",
        "  w1 = individual[0:n]\n",
        "  w1 = w1.reshape(n, 1)\n",
        "  b1 = individual[n:2 * n]\n",
        "  b1 = b1.reshape(n, 1)\n",
        "  w2 = individual[2* n:3*n]\n",
        "  b2 = individual[3 * n]\n",
        "\n",
        "  #p = numpy.arange(-3, 3.01, 0.1)\n",
        "  p = data[\"x\"]\n",
        "  t = data[\"f(x)\"]\n",
        "\n",
        "  y = numpy.zeros(len(p))\n",
        "  for i in range(len(y)):\n",
        "    a1 = logsig(numpy.add(numpy.matmul(w1, p[i].reshape(1, 1)), b1))  \n",
        "    a2 = numpy.add(numpy.matmul(w2, a1), b2) * 10   \n",
        "    y[i] = a2\n",
        "  matplotlib.pyplot.plot(p, y, label = \"GA Approximation\")\n",
        "  matplotlib.pyplot.plot(p, t, label = \"Objective\")  \n",
        "  matplotlib.pyplot.legend()\n",
        "  matplotlib.pyplot.title(\"GA Approximation vs. Objective\")\n",
        "  matplotlib.pyplot.show()\n"
      ],
      "execution_count": 15,
      "outputs": [
        {
          "output_type": "display_data",
          "data": {
            "image/png": "[encoded data removed]",
            "text/plain": [
              "<Figure size 432x288 with 1 Axes>"
            ]
          },
          "metadata": {
            "tags": [],
            "needs_background": "light"
          }
        }
      ]
    },
    {
      "cell_type": "code",
      "metadata": {
        "id": "yDjdPkbTb62V",
        "colab_type": "code",
        "colab": {}
      },
      "source": [
        "# Implements the tournament selection.\n",
        "def select(population, evaluation, tournamentSize):\n",
        "  winner = numpy.random.randint(0, len(population))\n",
        "  for i in range(tournamentSize - 1):\n",
        "    rival = numpy.random.randint(0, len(population))\n",
        "    if (evaluation[rival] < evaluation[winner]):\n",
        "      winner = rival\n",
        "  return population[winner]"
      ],
      "execution_count": 16,
      "outputs": []
    },
    {
      "cell_type": "code",
      "metadata": {
        "id": "-5ngGgosbtAH",
        "colab_type": "code",
        "colab": {
          "base_uri": "https://localhost:8080/",
          "height": 1000
        },
        "outputId": "6cc2473f-c0f5-4518-e909-bdf2bb12caec"
      },
      "source": [
        "# Implements a genetic algorithm.\n",
        "def geneticAlgorithm(n, populationSize, generations, cRate, mRate):\n",
        "  # Creates the initial population (it also evaluates it)\n",
        "  population = [None] * populationSize\n",
        "  evaluation = [None] * populationSize  \n",
        "  for i in range(populationSize):\n",
        "    individual = createIndividual(n)\n",
        "    population[i] = individual\n",
        "    evaluation[i] = evaluate(individual, n)\n",
        "  # Keeps a record of the best individual found so far\n",
        "  index = 0;\n",
        "  for i in range(1, populationSize):\n",
        "    if (evaluation[i] < evaluation[index]):\n",
        "      index = i;\n",
        "  bestIndividual = population[index]\n",
        "  bestEvaluation = evaluation[index]\n",
        "  best = [0] * generations\n",
        "  avg = [0] * generations\n",
        "  # Runs the evolutionary process    \n",
        "  for i in range(generations):\n",
        "    k = 0\n",
        "    newPopulation = [None] * populationSize    \n",
        "    for j in range(populationSize // 2):\n",
        "      parentA = select(population, evaluation, 3)\n",
        "      parentB = select(population, evaluation, 3)\n",
        "      newPopulation[k], newPopulation[k + 1] = combine(parentA, parentB, cRate)       \n",
        "      k = k + 2    \n",
        "    population = newPopulation\n",
        "    for j in range(populationSize):\n",
        "      population[j] = mutate(population[j], mRate)\n",
        "      evaluation[j] = evaluate(population[j], n)\n",
        "      # Keeps a record of the best individual found so far      \n",
        "      if (evaluation[j] < bestEvaluation):        \n",
        "        bestEvaluation = evaluation[j]\n",
        "        bestIndividual = population[j]\n",
        "    best[i] = bestEvaluation\n",
        "    avg[i] = numpy.average(evaluation)  \n",
        "  matplotlib.pyplot.plot(range(generations), best, label = \"Best\")\n",
        "  matplotlib.pyplot.plot(range(generations), avg, label = \"Average\")\n",
        "  matplotlib.pyplot.legend()\n",
        "  matplotlib.pyplot.title(\"GA Run\")\n",
        "  matplotlib.pyplot.show()\n",
        "  return bestIndividual, bestEvaluation\n",
        "\n",
        "# Runs the genetic algorithm\n",
        "n = 110\n",
        "numpy.random.seed(seed=42)\n",
        "#solution, evaluation = geneticAlgorithm(n, 100, 200, 0.9, 0.05)\n",
        "solution, evaluation = geneticAlgorithm(n, 100, 300, 0.9, 0.10)\n",
        "print(solution)\n",
        "print(evaluation)\n",
        "plot(solution, n)"
      ],
      "execution_count": 24,
      "outputs": [
        {
          "output_type": "display_data",
          "data": {
            "image/png": "[encoded data removed]",
            "text/plain": [
              "<Figure size 432x288 with 1 Axes>"
            ]
          },
          "metadata": {
            "tags": [],
            "needs_background": "light"
          }
        },
        {
          "output_type": "stream",
          "text": [
            "[-1.05996125e-01  6.29523659e-01 -4.31689126e-01  7.89698507e-01\n",
            "  6.58707776e-01  9.88185795e-01 -4.33432177e-01  8.50108715e-01\n",
            " -3.71911177e-01  1.89336674e+00  1.39464655e-01 -8.36928997e-01\n",
            "  1.30536807e+00  1.33184884e+00  2.25797942e-01  2.96939309e-01\n",
            " -7.92234439e-01 -1.15334322e+00  5.25523255e-01  5.20136714e-01\n",
            "  4.88145210e-01  2.16153828e-01  7.60876781e-01  9.56606505e-01\n",
            "  8.85592057e-01  1.61132035e+00  1.65662649e+00  6.11712960e-02\n",
            "  8.06356291e-01  1.40029899e-01  4.82079119e-02  3.02816801e-02\n",
            "  9.21726669e-01  1.76544463e+00  9.93997868e-01  1.66592929e+00\n",
            "  1.06658036e+00  9.62164498e-01  9.43271149e-01  5.20779819e-02\n",
            "  2.27869503e-01  2.86345562e-01 -1.41004509e+00  4.53261773e-01\n",
            "  1.79683109e-01  2.00136203e+00  1.31553260e+00 -8.75089299e-01\n",
            "  7.27100054e-01  2.91915272e-01  2.71322037e-01  1.55714444e-01\n",
            "  4.51290491e-01  7.82707270e-01 -2.51787856e-01  1.50378156e+00\n",
            "  8.73368506e-01  1.32381014e+00 -8.25044603e-01  4.89544430e-01\n",
            " -2.91347856e-02  1.53314653e+00  1.60210149e-01 -8.21192952e-01\n",
            "  1.77494650e+00 -2.57396445e-01  1.17679724e+00  7.34967473e-02\n",
            "  1.20911927e+00 -1.10897834e-01  3.37003176e-01 -7.35943077e-01\n",
            " -6.14702698e-02 -2.99289365e-01  2.15345281e-01  1.84060417e-01\n",
            " -2.76772025e-01  1.57134846e+00  3.37573037e-01  7.30888097e-01\n",
            "  1.61167092e+00 -3.64957726e-01  8.36946223e-01 -7.95274692e-01\n",
            "  2.00682082e+00  7.74080043e-01 -2.42861578e-01  1.11919619e-01\n",
            "  1.79618084e+00  4.01991844e-01  5.31169528e-01  1.68718793e+00\n",
            " -8.40653616e-01 -6.71809273e-01  5.61368826e-01  1.13383598e+00\n",
            "  2.41747370e-01 -7.74078430e-01  4.15728591e-02  5.32348245e-01\n",
            "  2.66601319e+00  1.87869733e+00  1.68701398e+00  4.28354933e+00\n",
            "  2.11468906e-01  1.82974727e+00  1.57539052e+00  2.29980528e+00\n",
            "  3.26929679e-02  6.66864258e-01  1.39651255e-01  1.89679781e+00\n",
            " -1.19563230e+00 -7.90577842e-01 -5.38203043e-01 -9.66127503e-01\n",
            "  1.84417113e+00 -4.42166551e-01  8.45616349e-01  1.12491932e+00\n",
            "  5.34201042e-01  5.94737929e-01 -1.69648509e-02  9.45673650e-01\n",
            "  1.68694736e+00  5.59194641e-01  1.73106570e-01  1.02780453e+00\n",
            "  8.68904984e-01  1.95359318e+00  1.58892820e+00  1.38634445e-02\n",
            "  4.03362024e-01  1.26250699e+00 -3.37307417e-01  6.60412167e-01\n",
            "  3.34128644e-01 -6.22687872e-01  1.15546527e+00  1.11452640e+00\n",
            "  2.51692644e-01 -2.37993577e-01  8.24233159e-01  1.60005633e+00\n",
            "  4.52496712e-01  3.97650991e-01  7.37487802e-01  1.03750213e+00\n",
            "  3.62319170e-03  1.25341234e+00  3.60994759e-01 -1.28306402e-01\n",
            "  7.16671868e-01 -2.24985109e-01  4.85461998e-01  2.64545518e-01\n",
            " -4.34775718e-01 -6.58695769e-02  1.73061949e-01  7.08652524e-01\n",
            "  1.02166621e+00 -5.50202135e-01  1.69511126e+00 -5.74499005e-01\n",
            "  1.54373814e+00 -5.96141924e-01  6.43452275e-01  1.02637850e+00\n",
            "  2.42308261e+00  1.71492985e+00  1.30493237e+00  3.38559030e-01\n",
            "  3.39076098e-01  6.97425458e-01 -8.78301328e-01  4.91904403e-01\n",
            "  1.57332721e-01  9.43850814e-01  1.17938675e-01  2.15655982e+00\n",
            "  2.31959489e-01  2.12865035e-01  5.56229150e-01  1.55898718e+00\n",
            "  6.48906367e-01  3.22109414e-01  7.78371905e-01  1.76484918e+00\n",
            " -5.19441773e-01 -8.92182689e-01  5.31829224e-02  8.70675752e-01\n",
            " -5.47183269e-01  1.50557486e+00  1.20374524e-01 -2.98458916e-01\n",
            "  5.33361549e-02 -5.73260469e-01  1.62650312e+00  1.07797970e+00\n",
            "  3.79838583e-02 -1.23498465e-01  8.40365680e-01  9.21069486e-01\n",
            "  4.01663599e-01 -9.98742847e-01 -3.67001486e-01  2.05485766e+00\n",
            "  8.82862824e-02  1.34009211e+00 -1.65110065e+00  1.23729294e+00\n",
            "  1.17215163e+00  1.72503888e+00  4.02294678e-01  2.01755818e+00\n",
            "  1.98558368e+00  9.45821823e-01  4.76578661e-01  5.90786678e-01\n",
            "  8.72541564e-02 -1.44243593e+00 -6.74747495e-01  2.14902058e-01\n",
            " -1.99054491e+00  1.04274881e+00  7.84706299e-01 -3.13535555e-01\n",
            "  4.86391628e-01 -8.83707573e-01  3.39519133e-01  1.77070653e+00\n",
            "  2.26425118e+00  9.88176656e-01 -6.63638104e-01 -3.95152286e-01\n",
            " -5.93789240e-01  1.52943186e-01 -2.72089308e+00 -5.19145654e-01\n",
            " -2.54181803e-01 -4.09615280e-01  7.07414834e-02  1.05146372e+00\n",
            "  5.20160223e-01 -1.17222397e+00  2.60001649e-01 -6.68214290e-01\n",
            " -1.23002533e+00  6.35816240e-01  9.22167777e-01 -4.28841425e-01\n",
            " -5.87986224e-01  6.79942575e-01  6.50069775e-01 -1.09509028e-01\n",
            "  1.91289157e-01 -3.43193111e-01 -7.95186826e-01  6.69365398e-01\n",
            "  4.63840209e-01  6.48736378e-02  2.14755150e-01 -5.99310668e-01\n",
            "  8.02681439e-01 -2.63780494e-01 -2.87226188e+00 -7.66963363e-02\n",
            " -3.04139214e-01  3.32417047e-01 -1.40623354e-01  1.15782809e+00\n",
            "  5.17498976e-01  1.08672374e+00 -5.65602759e-01  7.90476786e-01\n",
            " -7.99565879e-02  3.73533919e-01 -6.95523921e-01  3.38515517e-01\n",
            " -6.82243430e-01 -1.14050289e+00  5.07805064e-01  1.22579904e-01\n",
            "  4.50448274e-01 -4.64035943e-01 -7.80632494e-01  1.20893947e-01\n",
            "  1.09137114e+00 -3.63000867e-01 -6.70903815e-01  2.53272384e-01\n",
            " -5.70777233e-01 -3.03268114e-01  1.33388790e+00  1.21950226e+00\n",
            "  8.82877498e-02  8.24264286e-01  1.10905457e+00  1.24505672e+00\n",
            " -7.11661077e-02 -1.74306482e-01  3.41219890e-01  8.54974020e-01\n",
            "  2.34122088e-01  1.45425162e+00  1.39248804e+00 -8.95313238e-01\n",
            " -2.25971205e-01  1.43395618e+00 -1.17133423e+00 -4.33997640e-01\n",
            " -6.17389264e-01 -5.84572580e-01  5.63412334e-01  1.31042209e-01\n",
            "  8.70664478e-01  3.96543748e-01  9.54083959e-01 -8.73943860e-01\n",
            "  1.17509336e+00 -1.00705485e+00  1.06806275e+00  9.03114636e-01\n",
            " -5.97708676e-01 -1.19938234e+00  8.66019494e-01 -1.34423101e-01\n",
            " -8.37466803e-01 -1.39169016e+00 -5.53664134e-01]\n",
            "3.4246534546948886\n"
          ],
          "name": "stdout"
        },
        {
          "output_type": "display_data",
          "data": {
            "image/png": "[encoded data removed]",
            "text/plain": [
              "<Figure size 432x288 with 1 Axes>"
            ]
          },
          "metadata": {
            "tags": [],
            "needs_background": "light"
          }
        }
      ]
    },
    {
      "cell_type": "code",
      "metadata": {
        "id": "w68yb12pb5cV",
        "colab_type": "code",
        "colab": {}
      },
      "source": [
        ""
      ],
      "execution_count": null,
      "outputs": []
    }
  ]
}