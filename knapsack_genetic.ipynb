{
 "metadata": {
  "language_info": {
   "codemirror_mode": {
    "name": "ipython",
    "version": 3
   },
   "file_extension": ".py",
   "mimetype": "text/x-python",
   "name": "python",
   "nbconvert_exporter": "python",
   "pygments_lexer": "ipython3",
   "version": "3.7.4-final"
  },
  "orig_nbformat": 2,
  "kernelspec": {
   "name": "python_defaultSpec_1598479805482",
   "display_name": "Python 3.7.4 64-bit"
  }
 },
 "nbformat": 4,
 "nbformat_minor": 2,
 "cells": [
  {
   "cell_type": "markdown",
   "metadata": {},
   "source": [
    "# Knapsack Problem - Genetic Algorithms\n",
    "\n",
    "\n",
    "`Carlos Alfonso Hinojosa Cavada | A01137566`\n",
    "\n",
    "`Miguel Angel Cortes Guzman | A01270966`\n",
    "\n",
    "`Jesus Eider Diaz Moraila | A00828174`"
   ]
  },
  {
   "cell_type": "markdown",
   "metadata": {},
   "source": [
    "## Representation"
   ]
  },
  {
   "cell_type": "code",
   "execution_count": 31,
   "metadata": {
    "tags": []
   },
   "outputs": [],
   "source": [
    "import random\n",
    "import numpy\n",
    "import pandas as pd\n",
    "import os\n",
    "\n",
    "# Implements the random initialization of individuals using the binary representation.\n",
    "def createIndividual(nbBits):\n",
    "  return numpy.random.permutation(nbBits)"
   ]
  },
  {
   "cell_type": "markdown",
   "metadata": {},
   "source": [
    "## Selection"
   ]
  },
  {
   "cell_type": "code",
   "execution_count": 3,
   "metadata": {},
   "outputs": [],
   "source": [
    "# Implements the tournament selection.\n",
    "def select(population, evaluation, tournamentSize):\n",
    "  winner = numpy.random.randint(0, len(population))\n",
    "  for i in range(tournamentSize - 1):\n",
    "    rival = numpy.random.randint(0, len(population))\n",
    "    if (evaluation[rival] < evaluation[winner]):\n",
    "      winner = rival\n",
    "  return population[winner]"
   ]
  },
  {
   "cell_type": "markdown",
   "metadata": {},
   "source": [
    "## Crossover"
   ]
  },
  {
   "cell_type": "code",
   "execution_count": 58,
   "metadata": {
    "tags": []
   },
   "outputs": [],
   "source": [
    "# Implements the one point crossover on individuals using the binary representation.\n",
    "def combine(parentA, parentB, cRate):\n",
    "  if (random.random() <= cRate):\n",
    "    cPoint = numpy.random.randint(1, len(parentA))   \n",
    "    offspringA = numpy.append(parentA[0:cPoint], parentB)\n",
    "    _, idx = numpy.unique(offspringA, return_index=True)\n",
    "    offspringA = offspringA[numpy.sort(idx)]\n",
    "\n",
    "    offspringB = numpy.append(parentB[0:cPoint], parentA)\n",
    "    _, idx = numpy.unique(offspringB, return_index=True)\n",
    "    offspringB = offspringB[numpy.sort(idx)]\n",
    "  else:\n",
    "    offspringA = numpy.copy(parentA)\n",
    "    offspringB = numpy.copy(parentB)\n",
    "  return offspringA, offspringB"
   ]
  },
  {
   "cell_type": "markdown",
   "metadata": {},
   "source": [
    "## Mutation"
   ]
  },
  {
   "cell_type": "code",
   "execution_count": 67,
   "metadata": {},
   "outputs": [],
   "source": [
    "# Implements the flip mutation on individuals using the binary representation.\n",
    "def mutate(individual, mRate):\n",
    "  idx1 = random.randint(0, len(individual)-1)\n",
    "  idx2 = random.randint(0, len(individual)-1)\n",
    "  if (random.random() <= mRate):\n",
    "      individual[idx1], individual[idx2] = individual[idx2], individual[idx1]  \n",
    "  return individual"
   ]
  },
  {
   "cell_type": "markdown",
   "metadata": {},
   "source": [
    "## Evaluation"
   ]
  },
  {
   "cell_type": "code",
   "execution_count": 33,
   "metadata": {},
   "outputs": [],
   "source": [
    "# Implements the fitness function of individuals using the binary representation and solving the balanced partition set.\n",
    "def evaluate(individual, problem, capacity):\n",
    "    value = 0\n",
    "    weight = 0\n",
    "\n",
    "    # Calculate the weight and value of current solution\n",
    "    for i in range(len(individual)):\n",
    "        item_weight = problem.iloc[i, 0]\n",
    "        item_value = problem.iloc[i, 1]\n",
    "\n",
    "        if weight + item_weight > capacity:\n",
    "            break\n",
    "        else:\n",
    "            weight += item_weight\n",
    "            value += item_value\n",
    "\n",
    "    return value"
   ]
  },
  {
   "cell_type": "code",
   "execution_count": 95,
   "metadata": {},
   "outputs": [],
   "source": [
    "# Implements the fitness function of individuals using the binary representation and solving the balanced partition set.\n",
    "def print_solution(individual, problem, capacity):\n",
    "    weight = 0\n",
    "    items = []\n",
    "\n",
    "    # Calculate the weight and value of current solution\n",
    "    for i in range(len(individual)):\n",
    "        item_weight = problem.iloc[i, 0]\n",
    "\n",
    "        if weight + item_weight > capacity:\n",
    "            return len(items)\n",
    "            break\n",
    "        else:\n",
    "            items.append(individual[i])\n",
    "            weight += item_weight"
   ]
  },
  {
   "cell_type": "markdown",
   "metadata": {},
   "source": [
    "## Genetic Algorithm"
   ]
  },
  {
   "cell_type": "code",
   "execution_count": 7,
   "metadata": {},
   "outputs": [],
   "source": [
    "# Implements a genetic algorithm for solving the balanced partition problem with individuals using the binary representation.\n",
    "def geneticAlgorithm(problem, populationSize, generations, cRate, mRate, capacity):\n",
    "  # Creates the initial population (it also evaluates it)\n",
    "  population = [None] * populationSize\n",
    "  evaluation = [None] * populationSize  \n",
    "  for i in range(populationSize):\n",
    "    individual = createIndividual(len(problem))\n",
    "    population[i] = individual\n",
    "    evaluation[i] = evaluate(individual, problem, capacity)\n",
    "  # Keeps a record of the best individual found so far\n",
    "  index = 0\n",
    "  for i in range(1, populationSize):\n",
    "    if (evaluation[i] > evaluation[index]):\n",
    "      index = i\n",
    "  bestIndividual = population[index]\n",
    "  bestEvaluation = evaluation[index]\n",
    "  \n",
    "  # Runs the evolutionary process    \n",
    "  for i in range(generations):\n",
    "    k = 0\n",
    "    newPopulation = [None] * populationSize    \n",
    "    for j in range(populationSize // 2):\n",
    "      parentA = select(population, evaluation, 3)\n",
    "      parentB = select(population, evaluation, 3)\n",
    "      newPopulation[k], newPopulation[k + 1] = combine(parentA, parentB, cRate)       \n",
    "      k = k + 2    \n",
    "    population = newPopulation\n",
    "    for i in range(populationSize):\n",
    "      population[i] = mutate(population[i], mRate)\n",
    "      evaluation[i] = evaluate(population[i], problem, capacity)\n",
    "      # Keeps a record of the best individual found so far\n",
    "      if (evaluation[i] > bestEvaluation):\n",
    "        bestEvaluation = evaluation[i]\n",
    "        bestIndividual = population[i]\n",
    "  return bestIndividual, bestEvaluation"
   ]
  },
  {
   "cell_type": "markdown",
   "metadata": {},
   "source": [
    "## Driver Program"
   ]
  },
  {
   "cell_type": "code",
   "execution_count": 97,
   "metadata": {
    "tags": []
   },
   "outputs": [
    {
     "output_type": "stream",
     "name": "stdout",
     "text": "Instance: ks_10000_0\nEvaluation: 937157.0\nTotal items in knapsack: 9\nSolution: [6252 4684 1731 4742 4521 6340  576 5202 6363]\n---------------------------------------\nInstance: ks_1000_0\nEvaluation: 100890.0\nTotal items in knapsack: 10\nSolution: [173 745 849 266 391 106 498 973 651 669]\n---------------------------------------\nInstance: ks_100_0\nEvaluation: 90000.0\nTotal items in knapsack: 1\nSolution: [31]\n---------------------------------------\nInstance: ks_100_1\nEvaluation: 1230813.0\nTotal items in knapsack: 36\nSolution: [23 12 22 64 85 24 44 83 98 36 51 17 29 48 52 95 56 28 78 25 18 68 41 46\n 92 63 70 47  8 45  6  1 38 21 53 65]\n---------------------------------------\nInstance: ks_100_2\nEvaluation: 9682.0\nTotal items in knapsack: 9\nSolution: [54 40 11 60 99 79 94  4 24]\n---------------------------------------\nInstance: ks_106_0\nEvaluation: 92679972.0\nTotal items in knapsack: 11\nSolution: [ 22  26   3  38  62 102  40 101  31  61  11]\n---------------------------------------\nInstance: ks_19_0\nEvaluation: 11476.0\nTotal items in knapsack: 6\nSolution: [ 4  3  9 14  8 10]\n---------------------------------------\nInstance: ks_200_0\nEvaluation: 90001.0\nTotal items in knapsack: 1\nSolution: [183]\n---------------------------------------\nInstance: ks_200_1\nEvaluation: 954951.0\nTotal items in knapsack: 52\nSolution: [113 101 110  42 135  75  92 157  77 151  20  27  54  38 125 168 181  45\n 186 102  94 149  67  91  70 111  22 107  36 189  95 164 167 108 119  10\n 145 136  73  93  32   9 159  35  74  15 114  47 193 150  26   7]\n---------------------------------------\nInstance: ks_300_0\nEvaluation: 1673951.0\nTotal items in knapsack: 72\nSolution: [ 95  69 239 136  66 294  67 252 264 183 158 203 260 274  21 251  41 105\n 134  43 218  72 234 186  83  53 157 256 138 139  78   7  47 193 103  26\n 227 254 151 292 228  20 144 240 246 233 100  49 154 243 191  82 182 178\n 284  79   3  16  60  35 244 155 241  68   8 282 286 281   0 295  96 147]\n---------------------------------------\nInstance: ks_30_0\nEvaluation: 90000.0\nTotal items in knapsack: 1\nSolution: [0]\n---------------------------------------\nInstance: ks_400_0\nEvaluation: 3834149.0\nTotal items in knapsack: 174\nSolution: [231 230  28  85 153   9 371 259  87  56 264 159 258   4 310 115  42 207\n 190 391 397 348 383 272 329 187 105 131 395  96  79 216 180 167 135 148\n 143 183 356 233 281  11 337 293 181 305 165 334  23  40 347 336 114 186\n 316 274 243 201 376 206   8 125 158 137 345 155  88 279 267 197 124  68\n 117 218 266 134 242 199 261 191 373 381 359 212 342 133 194 268 370 361\n 232  57 138 365  97 283 287 168  89  30  33 385 147 219 164  52 374 166\n 192 343  99 304 363 127 302   2 221 312 251 129 119  22  70 265 314 108\n 170  64 244 390  81  51 352 145  14 172 254 214 200 163 149   1 300 146\n 179  44 333  90 346 228  72 182 154 288 353 344  58 116 357 330 120 193\n 290  24 260   3 110 380 271 161 382  32 338 285]\n---------------------------------------\nInstance: ks_40_0\nEvaluation: 90001.0\nTotal items in knapsack: 1\nSolution: [23]\n---------------------------------------\nInstance: ks_45_0\nEvaluation: 15467.0\nTotal items in knapsack: 8\nSolution: [ 9 42 26 28 10  2 23  0]\n---------------------------------------\nInstance: ks_4_0\nEvaluation: 18.0\nTotal items in knapsack: 2\nSolution: [1 3]\n---------------------------------------\nInstance: ks_500_0\nEvaluation: 44308.0\nTotal items in knapsack: 10\nSolution: [ 22 219 130 118  75 258 191 214  96  43]\n---------------------------------------\nInstance: ks_50_0\nEvaluation: 139864.0\nTotal items in knapsack: 13\nSolution: [13 43 10 32 48 29 27  1 41 26 39  9 12]\n---------------------------------------\nInstance: ks_50_1\nEvaluation: 4291.0\nTotal items in knapsack: 10\nSolution: [20  7 48 46 13  6 41 15 42 14]\n---------------------------------------\nInstance: ks_60_0\nEvaluation: 90000.0\nTotal items in knapsack: 1\nSolution: [31]\n---------------------------------------\nInstance: ks_82_0\nEvaluation: 54099045.0\nTotal items in knapsack: 12\nSolution: [10 41 48 50 23 11 33 36 24 14 30  1]\n---------------------------------------\n"
    }
   ],
   "source": [
    "# Before running the code, we must initialize the random number generators.\n",
    "numpy.random.seed(42)\n",
    "random.seed(numpy.random.randint(10000))\n",
    "instance_dir = \".\\Knapsack Problems\\\\\" # Write your local KS instance directory\n",
    "instances = os.listdir(instance_dir)\n",
    "\n",
    "for instance in instances:\n",
    "    df = pd.read_csv(instance_dir + instance, header = None)\n",
    "    df.head()\n",
    "\n",
    "    # Define parameters for genetic algorithm\n",
    "    problem, header = df.drop(df.head(1).index),df.head(1)\n",
    "    capacity = int(header[1])\n",
    "    populationSize = 20\n",
    "    generations = 25\n",
    "    cRate = 0.9\n",
    "    mRate = 0.01\n",
    "\n",
    "    # Solve the problem\n",
    "    solution, evaluation = geneticAlgorithm(problem, populationSize, generations, cRate, mRate, capacity)\n",
    "    # print(\"Solution\")\n",
    "    # print(solution)\n",
    "    num_items = print_solution(solution, problem, capacity)\n",
    "    print(\"Instance: \" + instance)\n",
    "    print(\"Evaluation: \" + str(evaluation))\n",
    "    print(\"Total items in knapsack: \" + str(num_items))\n",
    "    print(\"Solution: \" + str(solution[0:num_items]))\n",
    "    print(\"---------------------------------------\")\n"
   ]
  }
 ]
}