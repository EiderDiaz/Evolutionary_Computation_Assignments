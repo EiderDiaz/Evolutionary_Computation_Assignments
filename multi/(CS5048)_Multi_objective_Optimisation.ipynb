{
  "nbformat": 4,
  "nbformat_minor": 0,
  "metadata": {
    "colab": {
      "name": "Evolutionary Computation (CS5048): Multi-objective Optimisation.ipynb",
      "provenance": [],
      "collapsed_sections": []
    },
    "kernelspec": {
      "name": "python3",
      "display_name": "Python 3"
    }
  },
  "cells": [
    {
      "cell_type": "markdown",
      "metadata": {
        "id": "4aFWhAmvXyG9",
        "colab_type": "text"
      },
      "source": [
        "# Evolutionary Computation (CS5048)\n",
        "\n",
        "Edgar Covantes Osuna, PhD\n",
        "\n",
        "Email: edgar.covantes@tex.mx\n",
        "\n",
        "Student name: **Do not forget to write your full name here.**\n",
        "\n",
        "ID: **Do not forget to write your ID here.**\n",
        "\n",
        "$\n",
        "\\def\\zdtone{{\\rm ZDT1}}\n",
        "\\def\\zdttwo{{\\rm ZDT2}}\n",
        "\\def\\zdtthree{{\\rm ZDT3}}\n",
        "\\def\\fon{{\\rm FON}}\n",
        "$"
      ]
    },
    {
      "cell_type": "markdown",
      "metadata": {
        "id": "qETl3S60X3Dw",
        "colab_type": "text"
      },
      "source": [
        "## Multi-objective Optimisation\n",
        "\n",
        "From the Lecture \"Multimodal and Multi-objective Optimisation\" you learned the theoretical foundations of Multi-objective Optimisation as a small set of optimisation and black box optimisation problems.\n",
        "\n",
        "You know are familiar with the terms multi-objective function, decision space, objective space, Pareto set, Pareto front, decision vector and objective vector and dominance relations. \n",
        "\n",
        "You are now familiar with the difference between single-objective and multi-objective optimisation and the problem that all Multi-Objective Evolutionary Algorithms (MOEAs) have to overcome when solving multi-objective problems:\n",
        "1. Push the population close to the Pareto front.\n",
        "2. Spread the population along the front such that is well covered. \n",
        "\n",
        "And finally, we just mentioned some well-known MOEAs."
      ]
    },
    {
      "cell_type": "markdown",
      "metadata": {
        "id": "3khb_IVCjNqD",
        "colab_type": "text"
      },
      "source": [
        "## Instructions\n",
        "\n",
        "In this activity you will need to make a literature review of the well-known MOEAs mentioned during the lecture to tackle 4 multi-objective optimisation problem (all of them are defined as minimisation problems). \n",
        "\n",
        "You can use any MOEA you want but you can not use any framework available on the internet. This is, you will need to design and program your solution from scratch using just Python and on Google Colab.\n",
        "\n",
        "It is expected from you to read the literature so you can solve these problems. By knowing the problem it will be easier for you to make decisions about parameter settings, mechanisms to apply, the search space to use and the structure of the inviduals to use.\n",
        "\n",
        "**The goal**:\n",
        "\n",
        "At the end of the execution of your MOEAs you should present a population containing all Pareto-optimal decision vector $X^*$ (Pareto set) and in consecuence all $F^*$, the set of all Pareto-optimal objective vectors (Pareto front).\n",
        "\n",
        "**Marking scheme**:\n",
        "\n",
        "For each function, the final population will be used to estimate the percentage of the Pareto front covered.\n",
        "\n",
        "- $\\zdtone$ has a convex Pareto-optimal front (25 points). \n",
        "- $\\zdttwo$ is the nonconvex counterpart to $\\zdtone$ (25 points).\n",
        "- $\\zdtthree$ represents the discreteness feature; its Pareto-optimal front consists of several noncontiguous convex parts (25 points).\n",
        "- $\\fon$ has a similar shape as $\\zdttwo$ (25 points).\n",
        "\n",
        "**Suggestions**\n",
        "- Read carefully each section and spend time understanding each function. Each function may require specific representations or operator. I highly suggest reading the slides and the papers referenced there before solving the functions."
      ]
    },
    {
      "cell_type": "markdown",
      "metadata": {
        "id": "oEWQMhXips9A",
        "colab_type": "text"
      },
      "source": [
        "## Imports\n",
        "\n",
        "You can add all the necessary packages in the following cell."
      ]
    },
    {
      "cell_type": "code",
      "metadata": {
        "id": "0PeaftNypwSb",
        "colab_type": "code",
        "colab": {}
      },
      "source": [
        "# IF YOU WANT YOU CAN USE THIS CELL TO ADD YOUR IMPORTS.\n",
        "import numpy as np\n",
        "from matplotlib import cm\n",
        "import matplotlib.pyplot as plt\n",
        "import pandas as pd\n",
        "\n",
        "#Uncomment the next line incase the latex fonts are not installed in your system (the instalation may take a couple of minutes).\n",
        "#!apt install texlive-fonts-recommended texlive-fonts-extra cm-super dvipng\n",
        "\n",
        "plt.rc('text', usetex=True)  \n",
        "plt.rc('font', family='serif')"
      ],
      "execution_count": null,
      "outputs": []
    },
    {
      "cell_type": "markdown",
      "metadata": {
        "colab_type": "text",
        "id": "HZP8zo3ttFKD"
      },
      "source": [
        "## $\\zdtone$\n",
        "\n",
        "Here is the formal definition of the $\\zdtone$ function.\n",
        "\n",
        "**Definition ($\\zdtone$)**: A bi-objective test function with a convex Pareto-optimal front. The function is defined as\n",
        "\\begin{align*}\n",
        "\\zdtone(x) &= (f_1(x),f_2(x)), \\\\\n",
        "f_1(x) &= x_1,\\\\\n",
        "f_2(x) &= g(x)\\cdot\\left(1-\\sqrt{\\frac{x_1}{g(x)}}\\right),\\\\\n",
        "g(x) &= 1+\\frac{9}{n-1}\\sum_{i=2}^{n}x_i,\n",
        "\\end{align*}\n",
        "with $0\\leq x_i\\leq 1$, for $1\\leq i \\leq n$."
      ]
    },
    {
      "cell_type": "markdown",
      "metadata": {
        "id": "mpCNqY1aKoT9",
        "colab_type": "text"
      },
      "source": [
        "### Function Definition\n",
        "\n",
        "Here is the definition of the $\\zdtone$ function."
      ]
    },
    {
      "cell_type": "code",
      "metadata": {
        "id": "Pl9CNcAnyv9v",
        "colab_type": "code",
        "colab": {}
      },
      "source": [
        "def ZDT1(x):\n",
        "  f1 = x[0]\n",
        "  g = 1 + (9 / (len(x)-1)) * sum(x[1:])\n",
        "  f2 = g * (1 - np.sqrt(x[0]/g))\n",
        "  return [f1, f2]"
      ],
      "execution_count": null,
      "outputs": []
    },
    {
      "cell_type": "markdown",
      "metadata": {
        "id": "aMOD1eciGkhv",
        "colab_type": "text"
      },
      "source": [
        "By replacing `f2` from the previously defined $\\zdtone$ function with $f_2=1-\\sqrt{x_1}$ you can obtain values from the Pareto-optimal objective vectors. In the following cell you can generate Pareto-optimal objective vectors and print them using a pandas' Dataframe. "
      ]
    },
    {
      "cell_type": "code",
      "metadata": {
        "id": "x2_YsngOp54U",
        "colab_type": "code",
        "colab": {}
      },
      "source": [
        "pareto_front = np.empty((0, 2))\n",
        "\n",
        "# Feel free to play with the parameter \"num\" so you can see the shape of the Pareto front.\n",
        "for f1 in np.linspace(0, 1, num=100):\n",
        "    f2 = 1 - np.sqrt(f1)\n",
        "    pareto_front = np.vstack([pareto_front, [f1, f2]])  \n",
        "\n",
        "# Convert to DataFrame and show its content\n",
        "pareto_front = pd.DataFrame(pareto_front, columns=['f1', 'f2'])  \n",
        "pareto_front"
      ],
      "execution_count": null,
      "outputs": []
    },
    {
      "cell_type": "markdown",
      "metadata": {
        "id": "fazB-kzxqZZO",
        "colab_type": "text"
      },
      "source": [
        "In the following cell you can plot the points from the previously generated dataset so you can visualise the shape of the Pareto-optimal ovjective vectors."
      ]
    },
    {
      "cell_type": "code",
      "metadata": {
        "id": "gKwNoWVPqNGe",
        "colab_type": "code",
        "colab": {}
      },
      "source": [
        "fig=plt.figure()\n",
        "ax=fig.add_axes([0,0,1,1])\n",
        "ax.scatter(pareto_front.f1, pareto_front.f2, color='b')\n",
        "ax.set_xlabel(r'$f_1$', size=15)\n",
        "ax.set_ylabel(r'$f_2$', size=15)\n",
        "ax.set_title(r'Pareto optimal front for $\\textsc{ZDT1}(x)$', size=15, y=-0.2)\n",
        "plt.show()"
      ],
      "execution_count": null,
      "outputs": []
    },
    {
      "cell_type": "markdown",
      "metadata": {
        "id": "BW33sk-4rcE5",
        "colab_type": "text"
      },
      "source": [
        "You can also read the Pareto-optimal vectors from the file provided in Canvas, stored them in a pandas' dataframe and print its content.  "
      ]
    },
    {
      "cell_type": "code",
      "metadata": {
        "id": "11Az_DILG11Z",
        "colab_type": "code",
        "colab": {}
      },
      "source": [
        "# Before you run the code remember to specify a correct file path\n",
        "pareto_front = pd.read_csv('/tmp/ZDT1.pf', delim_whitespace=True)\n",
        "pareto_front.columns = ['f1','f2']\n",
        "  \n",
        "pareto_front"
      ],
      "execution_count": null,
      "outputs": []
    },
    {
      "cell_type": "markdown",
      "metadata": {
        "id": "LzsSJFElMnCy",
        "colab_type": "text"
      },
      "source": [
        "And again plot the Pareto-optimal objective vectors by running the following cell. As a sanity check, try running but options, automatically generated Pareto-optimal objective vectors and the ones in the file to corroborate that both shapes are the same."
      ]
    },
    {
      "cell_type": "code",
      "metadata": {
        "id": "-JEN4fwXIdh9",
        "colab_type": "code",
        "colab": {}
      },
      "source": [
        "fig=plt.figure()\n",
        "ax=fig.add_axes([0,0,1,1])\n",
        "ax.scatter(pareto_front.f1, pareto_front.f2, color='b')\n",
        "ax.set_xlabel(r'$f_1$', size=15)\n",
        "ax.set_ylabel(r'$f_2$', size=15)\n",
        "ax.set_title(r'Pareto optimal front for $\\textsc{ZDT1}(x)$', size=15, y=-0.2)\n",
        "plt.show()"
      ],
      "execution_count": null,
      "outputs": []
    },
    {
      "cell_type": "markdown",
      "metadata": {
        "id": "TFfoibZ-vHZN",
        "colab_type": "text"
      },
      "source": [
        "### Parameters to use\n",
        "In the following section define the value of the parameters that your evolutionary strategy will use. I have added some examples of such parameters but depending on your solution you may want to add some more.\n",
        "\n",
        "Do not change the parameter values\n",
        "\n",
        "```\n",
        "# number_runs = 50\n",
        "# number_generations = 50000\n",
        "```\n",
        "Use these parameters to define the stopping criterion, you can use it as the maximum number of generations allowed for the algorithm to run or the maximum number of fitness evaluations allowed for the algorithm to run.\n",
        "\n",
        "That time is enough to find an acceptable approximation of the Pareto front of the $\\zdtone$. This is to avoid extreme definition of stopping criterions, I do not want to run the algorithm from millions of generations.\n",
        "\n",
        "Also, if you want to use another stopping criterion together with the number of generations you can do it. If your algorithm was able to find all Pareto-optimal objective vectors before all the time budget is used go ahead and stop the run.\n"
      ]
    },
    {
      "cell_type": "code",
      "metadata": {
        "id": "D-bKnk4p-3Z-",
        "colab_type": "code",
        "colab": {}
      },
      "source": [
        "# YOU CAN CHANGE THE VALUES OF THE FOLLOWING PARAMETERS AND ADD ANY OTHER PARAMETER NEEDED IN YOUR SOLUTION\n",
        "population_size = \n",
        "offspring_size =\n",
        "mutation_prob =\n",
        "crossover_prob =\n",
        "problem_size =   # this will be your problem size or the size of your individuals\n",
        "\n",
        "# DO NOT CHANGE THE VALUE OF THE LINE BELOW.\n",
        "number_runs = 50\n",
        "number_generations = 50000 # you can use this one as fitness function evaluations if you want"
      ],
      "execution_count": null,
      "outputs": []
    },
    {
      "cell_type": "markdown",
      "metadata": {
        "id": "WArmGYS2-7pb",
        "colab_type": "text"
      },
      "source": [
        "### Evolution Strategy for $\\zdtone$\n",
        "**Modify the content of this cell to provide an abstract of your solution. It should be about 200 words and provide a summary\n",
        "of your solution** "
      ]
    },
    {
      "cell_type": "markdown",
      "metadata": {
        "id": "Fm6pI3oB_DyQ",
        "colab_type": "text"
      },
      "source": [
        "#### Initialisation\n",
        "**Modify the content of this cell to provide a description about your initilisation method**"
      ]
    },
    {
      "cell_type": "code",
      "metadata": {
        "id": "G1ygOqwe_HQc",
        "colab_type": "code",
        "colab": {}
      },
      "source": [
        "# YOUR INITIALISATION CODE GOES HERE "
      ],
      "execution_count": null,
      "outputs": []
    },
    {
      "cell_type": "markdown",
      "metadata": {
        "id": "XYiupiji_Ijd",
        "colab_type": "text"
      },
      "source": [
        "#### Stopping Criterion\n",
        "**Modify the content of this cell to provide a description about your stopping criterion**"
      ]
    },
    {
      "cell_type": "code",
      "metadata": {
        "id": "LvqPdYen_Oem",
        "colab_type": "code",
        "colab": {}
      },
      "source": [
        "# YOUR STOPPING CRITERION CODE GOES HERE"
      ],
      "execution_count": null,
      "outputs": []
    },
    {
      "cell_type": "markdown",
      "metadata": {
        "id": "2US3dvM__ST3",
        "colab_type": "text"
      },
      "source": [
        "#### Selection for Reproduction\n",
        "**Modify the content of this cell to provide a description about your selection for reproduction method**"
      ]
    },
    {
      "cell_type": "code",
      "metadata": {
        "id": "Odn0uuMP_V3e",
        "colab_type": "code",
        "colab": {}
      },
      "source": [
        "# YOUR SELECTION FOR REPRODUCTION CODE GOES HERE"
      ],
      "execution_count": null,
      "outputs": []
    },
    {
      "cell_type": "markdown",
      "metadata": {
        "id": "n3vuA3S8_ZGV",
        "colab_type": "text"
      },
      "source": [
        "#### Variation\n",
        "**Modify the content of this cell to provide a description about your variation methods (crossover, mutation, and/or any other used)**"
      ]
    },
    {
      "cell_type": "code",
      "metadata": {
        "id": "irbcchyu_cPH",
        "colab_type": "code",
        "colab": {}
      },
      "source": [
        "# YOUR VARIATION METHOD CODE GOES HERE"
      ],
      "execution_count": null,
      "outputs": []
    },
    {
      "cell_type": "markdown",
      "metadata": {
        "id": "t0vBlkd9_fbR",
        "colab_type": "text"
      },
      "source": [
        "#### Selection for Survival\n",
        "\n",
        "**Modify the content of this cell to provide a description about your selection for survival method**"
      ]
    },
    {
      "cell_type": "code",
      "metadata": {
        "id": "eFuP00gP_igv",
        "colab_type": "code",
        "colab": {}
      },
      "source": [
        "# YOUR SELECTION FOR SURVIVAL CODE GOES HERE"
      ],
      "execution_count": null,
      "outputs": []
    },
    {
      "cell_type": "markdown",
      "metadata": {
        "id": "zpzHGt2__lpC",
        "colab_type": "text"
      },
      "source": [
        "#### Main Cycle\n",
        "In the following cell you should implement the main cycle of your evolutionary strategy, this is, putting together all elements defined previously so you can solve the problem.\n",
        "\n",
        "Once you run the main cycle, the standard output should looks something like this\n",
        "```\n",
        "# <Generation/Fitness Evaluation number> <Decision vector (Genotype)> <Objective vector (Fitness functions values)>\n",
        "```\n",
        "Feel free to add extra spaces when needed or use any other format you think will make the output look nicer. But please preserve the order."
      ]
    },
    {
      "cell_type": "markdown",
      "metadata": {
        "id": "FJM3UbImm0vM",
        "colab_type": "text"
      },
      "source": [
        "## $\\zdttwo$\n",
        "\n",
        "Here is the formal definition of the $\\zdttwo$ function.\n",
        "\n",
        "**Definition ($\\zdttwo$)**: A bi-objective test function that is the nonconvex counterpart of $\\zdtone$. The function is defined as\n",
        "\n",
        "\\begin{align*}\n",
        "\\zdttwo(x) &= (f_1(x),f_2(x)),\\\\\n",
        "f_1(x) &= x_1,\\\\\n",
        "f_2(x) &= g(x)\\cdot\\left(1.0-\\left(\\frac{x_1}{g(x)}\\right)^2\\right),\\\\\n",
        "g(x) &= 1+\\frac{9}{n-1}\\sum_{i=2}^{n}x_i,\n",
        "\\end{align*}\n",
        "with $0\\leq x_i\\leq 1$, for $1\\leq i \\leq n$."
      ]
    },
    {
      "cell_type": "markdown",
      "metadata": {
        "id": "g1AvhgNG8P0-",
        "colab_type": "text"
      },
      "source": [
        "### Function Definition\n",
        "\n",
        "Here is the definition of the $\\zdttwo$ function."
      ]
    },
    {
      "cell_type": "code",
      "metadata": {
        "id": "r_g_NvZhnzGk",
        "colab_type": "code",
        "colab": {}
      },
      "source": [
        "def ZDT2(x):\n",
        "  f1 = x[0]\n",
        "  g = 1 + ( 9 / (len(x)-1)) * sum(x[1:])\n",
        "  f2 = g * (1.0 - np.power((x[0]/g),2))\n",
        "  return [f1, f2]"
      ],
      "execution_count": null,
      "outputs": []
    },
    {
      "cell_type": "markdown",
      "metadata": {
        "id": "iSHLT-zGwEMX",
        "colab_type": "text"
      },
      "source": [
        "By replacing `f2` from the previously defined $\\zdttwo$ function with $f_2=1-x_1^2$ you can obtain values from the Pareto-optimal objective vectors. In the following cell you can generate Pareto-optimal objective vectors and print them using a pandas' Dataframe. "
      ]
    },
    {
      "cell_type": "code",
      "metadata": {
        "id": "2gKM01PzoIFj",
        "colab_type": "code",
        "colab": {}
      },
      "source": [
        "pareto_front = np.empty((0, 2))\n",
        "\n",
        "# Feel free to play with the parameter \"num\" so you can see the shape of the Pareto front.\n",
        "for f1 in np.linspace(0, 1, num=100):\n",
        "    f2 = 1 - np.power(f1, 2)\n",
        "    pareto_front = np.vstack([pareto_front, [f1, f2]])  \n",
        "\n",
        "# Convert to DataFrame and show its content\n",
        "pareto_front = pd.DataFrame(pareto_front, columns=['f1', 'f2'])  \n",
        "pareto_front"
      ],
      "execution_count": null,
      "outputs": []
    },
    {
      "cell_type": "markdown",
      "metadata": {
        "id": "_LqG42Ovw2DD",
        "colab_type": "text"
      },
      "source": [
        "In the following cell you can plot the points from the previously generated dataset so you can visualise the shape of the Pareto-optimal ovjective vectors."
      ]
    },
    {
      "cell_type": "code",
      "metadata": {
        "id": "ajjVYVQmwd1M",
        "colab_type": "code",
        "colab": {}
      },
      "source": [
        "fig=plt.figure()\n",
        "ax=fig.add_axes([0,0,1,1])\n",
        "ax.scatter(pareto_front.f1, pareto_front.f2, color='b')\n",
        "ax.set_xlabel(r'$f_1$', size=15)\n",
        "ax.set_ylabel(r'$f_2$', size=15)\n",
        "ax.set_title(r'Pareto optimal front for $\\textsc{ZDT2}(x)$', size=15, y=-0.2)\n",
        "plt.show()"
      ],
      "execution_count": null,
      "outputs": []
    },
    {
      "cell_type": "markdown",
      "metadata": {
        "id": "yEZxpv9mw9Ai",
        "colab_type": "text"
      },
      "source": [
        "You can also read the Pareto-optimal vectors from the file provided in Canvas, stored them in a pandas' dataframe and print its content.  "
      ]
    },
    {
      "cell_type": "code",
      "metadata": {
        "id": "TJI1SrUYwYFW",
        "colab_type": "code",
        "colab": {}
      },
      "source": [
        "# Before you run the code remember to specify a correct file path\n",
        "pareto_front = pd.read_csv('/tmp/ZDT2.pf', delim_whitespace=True)\n",
        "pareto_front.columns = ['f1','f2']\n",
        "  \n",
        "pareto_front"
      ],
      "execution_count": null,
      "outputs": []
    },
    {
      "cell_type": "markdown",
      "metadata": {
        "id": "9-6IMd1mxL7U",
        "colab_type": "text"
      },
      "source": [
        "And again plot the Pareto-optimal objective vectors by running the following cell. As a sanity check, try running but options, automatically generated Pareto-optimal objective vectors and the ones in the file to corroborate that both shapes are the same."
      ]
    },
    {
      "cell_type": "code",
      "metadata": {
        "id": "0WrGhlYsouwU",
        "colab_type": "code",
        "colab": {}
      },
      "source": [
        "fig=plt.figure()\n",
        "ax=fig.add_axes([0,0,1,1])\n",
        "ax.scatter(pareto_front.f1, pareto_front.f2, color='b')\n",
        "ax.set_xlabel(r'$f_1$', size=15)\n",
        "ax.set_ylabel(r'$f_2$', size=15)\n",
        "ax.set_title(r'Pareto optimal front for $\\textsc{ZDT2}(x)$', size=15, y=-0.2)\n",
        "plt.show()"
      ],
      "execution_count": null,
      "outputs": []
    },
    {
      "cell_type": "markdown",
      "metadata": {
        "id": "dXkJyJBPvy5d",
        "colab_type": "text"
      },
      "source": [
        "### Parameters to use\n",
        "In the following section define the value of the parameters that your evolutionary strategy will use. I have added some examples of such parameters but depending on your solution you may want to add some more.\n",
        "\n",
        "Do not change the parameter values\n",
        "\n",
        "```\n",
        "# number_runs = 50\n",
        "# number_generations = 50000\n",
        "```\n",
        "Use these parameters to define the stopping criterion, you can use it as the maximum number of generations allowed for the algorithm to run or the maximum number of fitness evaluations allowed for the algorithm to run.\n",
        "\n",
        "That time is enough to find an acceptable approximation of the Pareto front of the $\\zdttwo$. This is to avoid extreme definition of stopping criterions, I do not want to run the algorithm from millions of generations.\n",
        "\n",
        "Also, if you want to use another stopping criterion together with the number of generations you can do it. If your algorithm was able to find all Pareto-optimal objective vectors before all the time budget is used go ahead and stop the run."
      ]
    },
    {
      "cell_type": "code",
      "metadata": {
        "id": "dqUZBANGAMnU",
        "colab_type": "code",
        "colab": {}
      },
      "source": [
        "# YOU CAN CHANGE THE VALUES OF THE FOLLOWING PARAMETERS AND ADD ANY OTHER PARAMETER NEEDED IN YOUR SOLUTION\n",
        "population_size = \n",
        "offspring_size =\n",
        "mutation_prob =\n",
        "crossover_prob =\n",
        "problem_size =   # this will be your problem size or the size of your individuals\n",
        "\n",
        "# DO NOT CHANGE THE VALUE OF THE LINE BELOW.\n",
        "number_runs = 50\n",
        "number_generations = 50000 # you can use this one as fitness function evaluations if you want"
      ],
      "execution_count": null,
      "outputs": []
    },
    {
      "cell_type": "markdown",
      "metadata": {
        "id": "O8RnYHCJAQqX",
        "colab_type": "text"
      },
      "source": [
        "### Evolution Strategy for $\\zdttwo$\n",
        "**Modify the content of this cell to provide an abstract of your solution. It should be about 200 words and provide a summary\n",
        "of your solution** "
      ]
    },
    {
      "cell_type": "markdown",
      "metadata": {
        "id": "YbLC7ewYAYaN",
        "colab_type": "text"
      },
      "source": [
        "#### Initialisation\n",
        "**Modify the content of this cell to provide a description about your initilisation method**"
      ]
    },
    {
      "cell_type": "code",
      "metadata": {
        "id": "3yzZBoH6AZoB",
        "colab_type": "code",
        "colab": {}
      },
      "source": [
        "# YOUR INITIALISATION CODE GOES HERE "
      ],
      "execution_count": null,
      "outputs": []
    },
    {
      "cell_type": "markdown",
      "metadata": {
        "id": "BnBPyTbLAbtC",
        "colab_type": "text"
      },
      "source": [
        "#### Stopping Criterion\n",
        "**Modify the content of this cell to provide a description about your stopping criterion**"
      ]
    },
    {
      "cell_type": "code",
      "metadata": {
        "id": "49JtQpJ7Ae-2",
        "colab_type": "code",
        "colab": {}
      },
      "source": [
        "# YOUR STOPPING CRITERION CODE GOES HERE"
      ],
      "execution_count": null,
      "outputs": []
    },
    {
      "cell_type": "markdown",
      "metadata": {
        "id": "O9O5_GMdAipc",
        "colab_type": "text"
      },
      "source": [
        "#### Selection for Reproduction\n",
        "**Modify the content of this cell to provide a description about your selection for reproduction method**"
      ]
    },
    {
      "cell_type": "code",
      "metadata": {
        "id": "cTYBSUpGAlfc",
        "colab_type": "code",
        "colab": {}
      },
      "source": [
        "# YOUR SELECTION FOR REPRODUCTION CODE GOES HERE"
      ],
      "execution_count": null,
      "outputs": []
    },
    {
      "cell_type": "markdown",
      "metadata": {
        "id": "OwksKX9dAqFH",
        "colab_type": "text"
      },
      "source": [
        "#### Variation\n",
        "**Modify the content of this cell to provide a description about your variation methods (crossover, mutation, and/or any other used)**"
      ]
    },
    {
      "cell_type": "code",
      "metadata": {
        "id": "bLmY5h7gApod",
        "colab_type": "code",
        "colab": {}
      },
      "source": [
        "# YOUR VARIATION METHOD CODE GOES HERE"
      ],
      "execution_count": null,
      "outputs": []
    },
    {
      "cell_type": "markdown",
      "metadata": {
        "id": "lnkfXFnNAtdD",
        "colab_type": "text"
      },
      "source": [
        "#### Selection for Survival\n",
        "\n",
        "**Modify the content of this cell to provide a description about your selection for survival method**"
      ]
    },
    {
      "cell_type": "code",
      "metadata": {
        "id": "nhed7RAZAw8u",
        "colab_type": "code",
        "colab": {}
      },
      "source": [
        "# YOUR SELECTION FOR SURVIVAL CODE GOES HERE"
      ],
      "execution_count": null,
      "outputs": []
    },
    {
      "cell_type": "markdown",
      "metadata": {
        "id": "y1VA0Ln5A4YY",
        "colab_type": "text"
      },
      "source": [
        "#### Main Cycle\n",
        "In the following cell you should implement the main cycle of your evolutionary strategy, this is, putting together all elements defined previously so you can solve the problem.\n",
        "\n",
        "Once you run the main cycle, the standard output should looks something like this\n",
        "```\n",
        "# <Generation/Fitness Evaluation number> <Decision vector (Genotype)> <Objective vector (Fitness functions values)>\n",
        "```\n",
        "Feel free to add extra spaces when needed or use any other format you think will make the output look nicer. But please preserve the order."
      ]
    },
    {
      "cell_type": "code",
      "metadata": {
        "id": "nxiG8nwwBCi5",
        "colab_type": "code",
        "colab": {}
      },
      "source": [
        "# YOUR CODE FOR THE MAIN CYCLE GOES HERE"
      ],
      "execution_count": null,
      "outputs": []
    },
    {
      "cell_type": "markdown",
      "metadata": {
        "id": "BVKXkgkOfHWk",
        "colab_type": "text"
      },
      "source": [
        "## $\\zdtthree$\n",
        "\n",
        "Here is the formal definition of the $\\zdtthree$ function.\n",
        "\n",
        "**Definition ($\\zdtthree$)**: A bi-objective test function that represents the discretness feature; its Pareto-optimal front consists of several noncontiguous convex parts. The function is defined as\n",
        "\n",
        "\\begin{align*}\n",
        "\\zdtthree(x) &= (f_1(x),f_2(x)),\\\\\n",
        "f_1(x) &= x_1,\\\\\n",
        "f_2(x) &= g(x)\\cdot\\left(1.0-\\sqrt{\\frac{x_1}{g(x)}}-\\frac{x_1}{g(x)}\\cdot\\sin\\left(10\\pi x_1\\right)\\right),\\\\\n",
        "g(x) &= 1+\\frac{9}{n-1}\\sum_{i=2}^{n}x_i,\n",
        "\\end{align*}\n",
        "with $0\\leq x_i\\leq 1$, for $1\\leq i \\leq n$."
      ]
    },
    {
      "cell_type": "markdown",
      "metadata": {
        "id": "BDxTUo68FCML",
        "colab_type": "text"
      },
      "source": [
        "### Function Definition"
      ]
    },
    {
      "cell_type": "code",
      "metadata": {
        "id": "xnJcr-aagrhv",
        "colab_type": "code",
        "colab": {}
      },
      "source": [
        "def ZDT3(x):\n",
        "  f1 = x[0]\n",
        "  g = 1 + ( 9 / (len(x)-1)) * sum(x[1:])\n",
        "  f2 = g * (1.0 - np.sqrt(x[0]/g) - (x[0]/g) * np.sin(10*np.pi*x[0]))\n",
        "  return [f1, f2]"
      ],
      "execution_count": null,
      "outputs": []
    },
    {
      "cell_type": "markdown",
      "metadata": {
        "id": "ZZsQepBT2s_C",
        "colab_type": "text"
      },
      "source": [
        "By replacing `f2` from the previously defined $\\zdtthree$ function with $f_2=1-\\sqrt{x_1}-x_1\\cdot \\sin(10\\pi x_1)$ and by defining the following values for $x_1\\in F$, where $F$ is defined as\n",
        "\\begin{align*}\n",
        "F = &\\,[0, 0.0830015349]~\\cup\\\\\n",
        "&\\,(0.1822287280, 0.2577623634]~\\cup \\\\\n",
        "&\\,(0.4093136748, 0.4538821041]~\\cup\\\\\n",
        "&\\,(0.6183967944, 0.6525117038]~\\cup\\\\\n",
        "&\\,(0.8233317983, 0.8518328654],\n",
        "\\end{align*}\n",
        "you can obtain values from the Pareto-optimal objective vectors. In the following cell you can generate Pareto-optimal objective vectors and print them using a pandas' Dataframe."
      ]
    },
    {
      "cell_type": "code",
      "metadata": {
        "id": "fQxbbiBAyKj8",
        "colab_type": "code",
        "colab": {}
      },
      "source": [
        "pareto_front = np.empty((0, 2))\n",
        "\n",
        "F = ((0, 0.0830015349),\n",
        "     (0.1822287280, 0.2577623634), \n",
        "     (0.4093136748, 0.4538821041), \n",
        "     (0.6183967944, 0.6525117038), \n",
        "     (0.8233317983, 0.8518328654))\n",
        "\n",
        "# Feel free to play with the parameter \"num\" so you can see the shape of the Pareto front.\n",
        "for lb, ub in F:\n",
        "  for f1 in np.linspace(lb, ub, num=100):\n",
        "    f2 = 1 - np.sqrt(f1) - f1 * np.sin(10 * np.pi * f1)\n",
        "    pareto_front = np.vstack([pareto_front, [f1, f2]])\n",
        "\n",
        "# Convert to DataFrame and show its content\n",
        "pareto_front = pd.DataFrame(pareto_front, columns=['f1', 'f2'])  \n",
        "pareto_front"
      ],
      "execution_count": null,
      "outputs": []
    },
    {
      "cell_type": "markdown",
      "metadata": {
        "id": "XypT078C67Gd",
        "colab_type": "text"
      },
      "source": [
        "In the following cell you can plot the points from the previously generated dataset so you can visualise the shape of the Pareto-optimal ovjective vectors."
      ]
    },
    {
      "cell_type": "code",
      "metadata": {
        "id": "33dn3vDP2YFt",
        "colab_type": "code",
        "colab": {}
      },
      "source": [
        "fig=plt.figure()\n",
        "ax=fig.add_axes([0,0,1,1])\n",
        "ax.scatter(pareto_front.f1, pareto_front.f2, color='b')\n",
        "ax.set_xlabel(r'$f_1$', size=15)\n",
        "ax.set_ylabel(r'$f_2$', size=15)\n",
        "ax.set_title(r'Pareto optimal front for $\\textsc{ZDT3}(x)$', size=15, y=-0.2)\n",
        "plt.show()"
      ],
      "execution_count": null,
      "outputs": []
    },
    {
      "cell_type": "markdown",
      "metadata": {
        "id": "oEsOX_eO7E4I",
        "colab_type": "text"
      },
      "source": [
        "You can also read the Pareto-optimal vectors from the file provided in Canvas, stored them in a pandas' dataframe and print its content.  "
      ]
    },
    {
      "cell_type": "code",
      "metadata": {
        "id": "6ZZt766Zhoz2",
        "colab_type": "code",
        "colab": {}
      },
      "source": [
        "# Before you run the code remember to specify a correct file path\n",
        "pareto_front = pd.read_csv('/tmp/ZDT3.pf', delim_whitespace=True)\n",
        "pareto_front.columns = ['f1','f2']\n",
        "  \n",
        "pareto_front"
      ],
      "execution_count": null,
      "outputs": []
    },
    {
      "cell_type": "markdown",
      "metadata": {
        "id": "g_lmz8oB7TWm",
        "colab_type": "text"
      },
      "source": [
        "And again plot the Pareto-optimal objective vectors by running the following cell. As a sanity check, try running but options, automatically generated Pareto-optimal objective vectors and the ones in the file to corroborate that both shapes are the same."
      ]
    },
    {
      "cell_type": "code",
      "metadata": {
        "id": "ZmOvXmRph8UE",
        "colab_type": "code",
        "colab": {}
      },
      "source": [
        "fig=plt.figure()\n",
        "ax=fig.add_axes([0,0,1,1])\n",
        "ax.scatter(pareto_front.f1, pareto_front.f2, color='b')\n",
        "ax.set_xlabel(r'$f_1$', size=15)\n",
        "ax.set_ylabel(r'$f_2$', size=15)\n",
        "ax.set_title(r'Pareto optimal front for $\\textsc{ZDT3}(x)$', size=15, y=-0.2)\n",
        "plt.show()"
      ],
      "execution_count": null,
      "outputs": []
    },
    {
      "cell_type": "markdown",
      "metadata": {
        "id": "hpT_E29Gv2-7",
        "colab_type": "text"
      },
      "source": [
        "### Parameters to use\n",
        "In the following section define the value of the parameters that your evolutionary strategy will use. I have added some examples of such parameters but depending on your solution you may want to add some more.\n",
        "\n",
        "Do not change the parameter values\n",
        "\n",
        "```\n",
        "# number_runs = 50\n",
        "# number_generations = 50000\n",
        "```\n",
        "Use these parameters to define the stopping criterion, you can use it as the maximum number of generations allowed for the algorithm to run or the maximum number of fitness evaluations allowed for the algorithm to run.\n",
        "\n",
        "That time is enough to find an acceptable approximation of the Pareto front of the $\\zdtthree$. This is to avoid extreme definition of stopping criterions, I do not want to run the algorithm from millions of generations.\n",
        "\n",
        "Also, if you want to use another stopping criterion together with the number of generations you can do it. If your algorithm was able to find all Pareto-optimal objective vectors before all the time budget is used go ahead and stop the run."
      ]
    },
    {
      "cell_type": "code",
      "metadata": {
        "id": "zkM_saaLBQaX",
        "colab_type": "code",
        "colab": {}
      },
      "source": [
        "# YOU CAN CHANGE THE VALUES OF THE FOLLOWING PARAMETERS AND ADD ANY OTHER PARAMETER NEEDED IN YOUR SOLUTION\n",
        "population_size = \n",
        "offspring_size =\n",
        "mutation_prob =\n",
        "crossover_prob =\n",
        "problem_size =   # this will be your problem size or the size of your individuals\n",
        "\n",
        "# DO NOT CHANGE THE VALUE OF THE LINE BELOW.\n",
        "number_runs = 50\n",
        "number_generations = 50000 # you can use this one as fitness function evaluations if you want"
      ],
      "execution_count": null,
      "outputs": []
    },
    {
      "cell_type": "markdown",
      "metadata": {
        "id": "eblOyzBWBT9i",
        "colab_type": "text"
      },
      "source": [
        "### Evolution Strategy for $\\zdtthree$\n",
        "**Modify the content of this cell to provide an abstract of your solution. It should be about 200 words and provide a summary\n",
        "of your solution** "
      ]
    },
    {
      "cell_type": "markdown",
      "metadata": {
        "id": "NrYLOyYyBnMv",
        "colab_type": "text"
      },
      "source": [
        "#### Initialisation\n",
        "**Modify the content of this cell to provide a description about your initilisation method**"
      ]
    },
    {
      "cell_type": "code",
      "metadata": {
        "id": "e0bf0i4tBpdd",
        "colab_type": "code",
        "colab": {}
      },
      "source": [
        "# YOUR INITIALISATION CODE GOES HERE "
      ],
      "execution_count": null,
      "outputs": []
    },
    {
      "cell_type": "markdown",
      "metadata": {
        "id": "6gbp8LRUBsYM",
        "colab_type": "text"
      },
      "source": [
        "#### Stopping Criterion\n",
        "**Modify the content of this cell to provide a description about your stopping criterion**"
      ]
    },
    {
      "cell_type": "code",
      "metadata": {
        "id": "CEtqzt5QBuuv",
        "colab_type": "code",
        "colab": {}
      },
      "source": [
        "# YOUR STOPPING CRITERION CODE GOES HERE"
      ],
      "execution_count": null,
      "outputs": []
    },
    {
      "cell_type": "markdown",
      "metadata": {
        "id": "_v4nQ8jEB2fI",
        "colab_type": "text"
      },
      "source": [
        "#### Selection for Reproduction\n",
        "**Modify the content of this cell to provide a description about your selection for reproduction method**"
      ]
    },
    {
      "cell_type": "code",
      "metadata": {
        "id": "kYEbU9ZtB442",
        "colab_type": "code",
        "colab": {}
      },
      "source": [
        "# YOUR SELECTION FOR REPRODUCTION CODE GOES HERE"
      ],
      "execution_count": null,
      "outputs": []
    },
    {
      "cell_type": "markdown",
      "metadata": {
        "id": "CkyjPbhgB7Zc",
        "colab_type": "text"
      },
      "source": [
        "#### Variation\n",
        "**Modify the content of this cell to provide a description about your variation methods (crossover, mutation, and/or any other used)**"
      ]
    },
    {
      "cell_type": "code",
      "metadata": {
        "id": "4BkuQsvgCB9L",
        "colab_type": "code",
        "colab": {}
      },
      "source": [
        "# YOUR VARIATION METHOD CODE GOES HERE"
      ],
      "execution_count": null,
      "outputs": []
    },
    {
      "cell_type": "markdown",
      "metadata": {
        "id": "qas2EE-TCFjW",
        "colab_type": "text"
      },
      "source": [
        "#### Selection for Survival\n",
        "\n",
        "**Modify the content of this cell to provide a description about your selection for survival method**"
      ]
    },
    {
      "cell_type": "code",
      "metadata": {
        "id": "zCscUox8CIig",
        "colab_type": "code",
        "colab": {}
      },
      "source": [
        "# YOUR SELECTION FOR SURVIVAL CODE GOES HERE"
      ],
      "execution_count": null,
      "outputs": []
    },
    {
      "cell_type": "markdown",
      "metadata": {
        "id": "qAfrqK6xCN6b",
        "colab_type": "text"
      },
      "source": [
        "#### Main Cycle\n",
        "In the following cell you should implement the main cycle of your evolutionary strategy, this is, putting together all elements defined previously so you can solve the problem.\n",
        "\n",
        "Once you run the main cycle, the standard output should looks something like this\n",
        "```\n",
        "# <Generation/Fitness Evaluation number> <Decision vector (Genotype)> <Objective vector (Fitness functions values)>\n",
        "```\n",
        "Feel free to add extra spaces when needed or use any other format you think will make the output look nicer. But please preserve the order."
      ]
    },
    {
      "cell_type": "code",
      "metadata": {
        "id": "zGS4rMdNCR1a",
        "colab_type": "code",
        "colab": {}
      },
      "source": [
        "# YOUR CODE FOR THE MAIN CYCLE GOES HERE"
      ],
      "execution_count": null,
      "outputs": []
    },
    {
      "cell_type": "markdown",
      "metadata": {
        "colab_type": "text",
        "id": "_nNSX04JtFAE"
      },
      "source": [
        "## $\\fon$\n",
        "\n",
        "**Definition ($\\fon$)**: A bi-objective test function with a nonconvex Pareto-optimal front. The function is defined as\n",
        "\n",
        "\\begin{align*}\n",
        "\\fon(x) &= (f_1(x),f_2(x)),\\\\\n",
        "f_1(x) &= 1-\\exp\\left(-\\sum_{i=1}^{3}\\left(x_i-\\frac{1}{\\sqrt{3}}\\right)^2\\right),\\\\\n",
        "f_2(x) &= 1-\\exp\\left(-\\sum_{i=1}^{3}\\left(x_i+\\frac{1}{\\sqrt{3}}\\right)^2\\right),\n",
        "\\end{align*}\n",
        "with $-4\\leq x_i\\leq 4$ for $1\\leq i \\leq n$."
      ]
    },
    {
      "cell_type": "markdown",
      "metadata": {
        "id": "TMZedn9BE3wD",
        "colab_type": "text"
      },
      "source": [
        "### Function Definition"
      ]
    },
    {
      "cell_type": "code",
      "metadata": {
        "id": "E0Ylx-bKv82Z",
        "colab_type": "code",
        "colab": {}
      },
      "source": [
        "def FON(x):\n",
        "   f1 = 1 - np.exp(-sum((xi - 1/np.sqrt(3))**2 for xi in x[:3]))\n",
        "   f2 = 1 - np.exp(-sum((xi + 1/np.sqrt(3))**2 for xi in x[:3]))\n",
        "   return [f1, f2]"
      ],
      "execution_count": null,
      "outputs": []
    },
    {
      "cell_type": "markdown",
      "metadata": {
        "id": "ebboYfZBGaNY",
        "colab_type": "text"
      },
      "source": [
        "For this problem the values for $x$, `f1` and `f2` required to plot the Pareto front are omitted. Use any means at your disposal to find them (for example make a literature review). \n",
        "\n",
        "Once you know how to generate the Pareto-optimal objective values create a pandas' dataset in the same way as the previous problems.\n",
        "\n"
      ]
    },
    {
      "cell_type": "code",
      "metadata": {
        "id": "EmHLEq2UIkSc",
        "colab_type": "code",
        "colab": {}
      },
      "source": [
        "# YOUR CODE TO CREATE A PANDAS' DATASET CONTAINING THE PARETO FRONT GOES HERE"
      ],
      "execution_count": null,
      "outputs": []
    },
    {
      "cell_type": "markdown",
      "metadata": {
        "id": "pwU0_zdYJqfm",
        "colab_type": "text"
      },
      "source": [
        "Use the same code from the previous problems to plot the content of your dataset to visualise the Pareto front."
      ]
    },
    {
      "cell_type": "code",
      "metadata": {
        "id": "xKkpEa40J7EO",
        "colab_type": "code",
        "colab": {}
      },
      "source": [
        "# YOUR CODE TO VISUALISE YOUR DATASET GOES HERE"
      ],
      "execution_count": null,
      "outputs": []
    },
    {
      "cell_type": "markdown",
      "metadata": {
        "id": "MsPsBnZpE5Dk",
        "colab_type": "text"
      },
      "source": [
        "You can check if your dataset corresponds to the Pareto front of the $\\fon$ problem by comparing it with the values of the Pareto-optimal vectors from the file provided in Canvas. \n",
        "\n",
        "In the following the values of the file are stored in a pandas' dataframe and printed."
      ]
    },
    {
      "cell_type": "code",
      "metadata": {
        "id": "XYidBBknvBmv",
        "colab_type": "code",
        "colab": {}
      },
      "source": [
        "pareto_front = pd.read_csv('/tmp/Fonseca.pf', delim_whitespace=True)\n",
        "pareto_front.columns = ['f1','f2']\n",
        "  \n",
        "pareto_front"
      ],
      "execution_count": null,
      "outputs": []
    },
    {
      "cell_type": "markdown",
      "metadata": {
        "id": "T1QP1_bWFQ_G",
        "colab_type": "text"
      },
      "source": [
        "And again plot the Pareto-optimal objective vectors by running the following cell. As a sanity check, compare your automatically generated Pareto-optimal objective vectors and the ones in the file to corroborate that both shapes are the same."
      ]
    },
    {
      "cell_type": "code",
      "metadata": {
        "id": "_FmFGJ_bvxEf",
        "colab_type": "code",
        "colab": {}
      },
      "source": [
        "fig=plt.figure()\n",
        "ax=fig.add_axes([0,0,1,1])\n",
        "ax.scatter(pareto_front.f1, pareto_front.f2, color='b')\n",
        "ax.set_xlabel(r'$f_1$', size=15)\n",
        "ax.set_ylabel(r'$f_2$', size=15)\n",
        "ax.set_title(r'Pareto optimal front for $\\textsc{FON}(x)$', size=15, y=-0.2)\n",
        "plt.show()"
      ],
      "execution_count": null,
      "outputs": []
    },
    {
      "cell_type": "markdown",
      "metadata": {
        "id": "ZxvgA86ev6Qt",
        "colab_type": "text"
      },
      "source": [
        "### Parameters to use\n",
        "In the following section define the value of the parameters that your evolutionary strategy will use. I have added some examples of such parameters but depending on your solution you may want to add some more.\n",
        "\n",
        "Do not change the parameter values\n",
        "\n",
        "```\n",
        "# number_runs = 50\n",
        "# number_generations = 50000\n",
        "```\n",
        "Use these parameters to define the stopping criterion, you can use it as the maximum number of generations allowed for the algorithm to run or the maximum number of fitness evaluations allowed for the algorithm to run.\n",
        "\n",
        "That time is enough to find an acceptable approximation of the Pareto front of the $\\fon$. This is to avoid extreme definition of stopping criterions, I do not want to run the algorithm from millions of generations.\n",
        "\n",
        "Also, if you want to use another stopping criterion together with the number of generations you can do it. If your algorithm was able to find all Pareto-optimal objective vectors before all the time budget is used go ahead and stop the run."
      ]
    },
    {
      "cell_type": "code",
      "metadata": {
        "id": "hKubMNgsCeic",
        "colab_type": "code",
        "colab": {}
      },
      "source": [
        "# YOU CAN CHANGE THE VALUES OF THE FOLLOWING PARAMETERS AND ADD ANY OTHER PARAMETER NEEDED IN YOUR SOLUTION\n",
        "population_size = \n",
        "offspring_size =\n",
        "mutation_prob =\n",
        "crossover_prob =\n",
        "problem_size =   # this will be your problem size or the size of your individuals\n",
        "\n",
        "# DO NOT CHANGE THE VALUE OF THE LINE BELOW.\n",
        "number_runs = 50\n",
        "number_generations = 50000 # you can use this one as fitness function evaluations if you want"
      ],
      "execution_count": null,
      "outputs": []
    },
    {
      "cell_type": "markdown",
      "metadata": {
        "colab_type": "text",
        "id": "hP85Kp2HCq2V"
      },
      "source": [
        "### Evolution Strategy for $\\fon$\n",
        "**Modify the content of this cell to provide an abstract of your solution. It should be about 200 words and provide a summary\n",
        "of your solution** "
      ]
    },
    {
      "cell_type": "markdown",
      "metadata": {
        "colab_type": "text",
        "id": "3hv9OhISCq2W"
      },
      "source": [
        "#### Initialisation\n",
        "**Modify the content of this cell to provide a description about your initilisation method**"
      ]
    },
    {
      "cell_type": "code",
      "metadata": {
        "colab_type": "code",
        "id": "3KMUjg9GCq2X",
        "colab": {}
      },
      "source": [
        "# YOUR INITIALISATION CODE GOES HERE "
      ],
      "execution_count": null,
      "outputs": []
    },
    {
      "cell_type": "markdown",
      "metadata": {
        "colab_type": "text",
        "id": "VZwr5fY6Cq2Z"
      },
      "source": [
        "#### Stopping Criterion\n",
        "**Modify the content of this cell to provide a description about your stopping criterion**"
      ]
    },
    {
      "cell_type": "code",
      "metadata": {
        "colab_type": "code",
        "id": "Rxskc7b5Cq2Z",
        "colab": {}
      },
      "source": [
        "# YOUR STOPPING CRITERION CODE GOES HERE"
      ],
      "execution_count": null,
      "outputs": []
    },
    {
      "cell_type": "markdown",
      "metadata": {
        "colab_type": "text",
        "id": "MvTub5m5Cq2b"
      },
      "source": [
        "#### Selection for Reproduction\n",
        "**Modify the content of this cell to provide a description about your selection for reproduction method**"
      ]
    },
    {
      "cell_type": "code",
      "metadata": {
        "colab_type": "code",
        "id": "eNDxERJACq2b",
        "colab": {}
      },
      "source": [
        "# YOUR SELECTION FOR REPRODUCTION CODE GOES HERE"
      ],
      "execution_count": null,
      "outputs": []
    },
    {
      "cell_type": "markdown",
      "metadata": {
        "colab_type": "text",
        "id": "PhJDTW88Cq2e"
      },
      "source": [
        "#### Variation\n",
        "**Modify the content of this cell to provide a description about your variation methods (crossover, mutation, and/or any other used)**"
      ]
    },
    {
      "cell_type": "code",
      "metadata": {
        "colab_type": "code",
        "id": "zRkhsadYCq2f",
        "colab": {}
      },
      "source": [
        "# YOUR VARIATION METHOD CODE GOES HERE"
      ],
      "execution_count": null,
      "outputs": []
    },
    {
      "cell_type": "markdown",
      "metadata": {
        "colab_type": "text",
        "id": "rALtkXckCq2j"
      },
      "source": [
        "#### Selection for Survival\n",
        "\n",
        "**Modify the content of this cell to provide a description about your selection for survival method**"
      ]
    },
    {
      "cell_type": "code",
      "metadata": {
        "colab_type": "code",
        "id": "xy6BIHxiCq2j",
        "colab": {}
      },
      "source": [
        "# YOUR SELECTION FOR SURVIVAL CODE GOES HERE"
      ],
      "execution_count": null,
      "outputs": []
    },
    {
      "cell_type": "markdown",
      "metadata": {
        "colab_type": "text",
        "id": "8Ugpc7pqCq2l"
      },
      "source": [
        "#### Main Cycle\n",
        "In the following cell you should implement the main cycle of your evolutionary strategy, this is, putting together all elements defined previously so you can solve the problem.\n",
        "\n",
        "Once you run the main cycle, the standard output should looks something like this\n",
        "```\n",
        "# <Generation/Fitness Evaluation number> <Decision vector (Genotype)> <Objective vector (Fitness functions values)>\n",
        "```\n",
        "Feel free to add extra spaces when needed or use any other format you think will make the output look nicer. But please preserve the order."
      ]
    },
    {
      "cell_type": "code",
      "metadata": {
        "colab_type": "code",
        "id": "4PsPHPz-Cq2m",
        "colab": {}
      },
      "source": [
        "# YOUR CODE FOR THE MAIN CYCLE GOES HERE"
      ],
      "execution_count": null,
      "outputs": []
    },
    {
      "cell_type": "markdown",
      "metadata": {
        "id": "v_rZGsibPzLv",
        "colab_type": "text"
      },
      "source": [
        "## Results and Discussions\n",
        "\n",
        "Provide a detailed explanation of the results obtained. If different approaches were used to solve different functions do not forget to add your observartions. If you tried a method and it didn't work for a certain function, then you used another method and it worked, do not forget to add these observations, why do you think that happened? Can you make some changes to make it work, etc."
      ]
    },
    {
      "cell_type": "markdown",
      "metadata": {
        "id": "d8C7j3QDP7AW",
        "colab_type": "text"
      },
      "source": [
        "## Conclutions\n",
        "\n",
        "Your conclutions from this activity."
      ]
    },
    {
      "cell_type": "markdown",
      "metadata": {
        "id": "yFx3ydBRP_Jw",
        "colab_type": "text"
      },
      "source": [
        "## References\n",
        "\n",
        "**If you use some method from the literature do not forget to add it here and the proper reference where needed.**\n",
        "\n",
        "**Do not forger to remove all unnecessary material and just leave the list of references in this section.**\n",
        "\n",
        "For example:\n",
        "\n",
        "\"*The following solutions is based on the NSGA-II defined by Deb et al. [1].*\"\n",
        "\n",
        "1. Deb, K., Pratap, A., Agarwal, S., and Meyarivan, T. (2002). A fast and elitist multiobjective genetic algorithm: NSGA-II. IEEE Transactions\n",
        "on Evolutionary Computation, 6(2):182-197.\n",
        "2. Other reference.\n",
        "3. Other reference."
      ]
    }
  ]
}